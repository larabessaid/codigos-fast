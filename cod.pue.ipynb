{
 "cells": [
  {
   "cell_type": "markdown",
   "metadata": {},
   "source": [
    "   # ------------------------- Estudios de Punto de Pedido --------------------------------------------"
   ]
  },
  {
   "cell_type": "code",
   "execution_count": 55,
   "metadata": {},
   "outputs": [],
   "source": [
    "# importamos las diferentes bibliotecas con las que vamos a trajar\n",
    "# Configuramos las salidas y la precisión de los datos \n",
    "import numpy as np\n",
    "import pandas as pd\n",
    "import sys,os\n",
    "import matplotlib.pyplot as plt\n",
    "\n",
    "pd.set_option(\"display.max_rows\", 200, \"display.max_columns\",200)\n",
    "np.set_printoptions(precision=1, suppress=True)"
   ]
  },
  {
   "cell_type": "code",
   "execution_count": 56,
   "metadata": {},
   "outputs": [],
   "source": [
    "t=364 # días del año"
   ]
  },
  {
   "cell_type": "markdown",
   "metadata": {},
   "source": [
    "# Primera parte"
   ]
  },
  {
   "cell_type": "code",
   "execution_count": 57,
   "metadata": {},
   "outputs": [],
   "source": [
    "#En la primera parte se realiza la lectura de los datos y pequeñas transformaciones para su posterior uso."
   ]
  },
  {
   "cell_type": "code",
   "execution_count": 58,
   "metadata": {},
   "outputs": [],
   "source": [
    "Compras=pd.read_csv('ENTRADAS.ALMACEN.csv').rename(columns={'0':0, '2':2, '1':1, '3':3, '5':5, '5555':5555})\n",
    "# Las entradas son las compras y los envíos recibidos procedentes de otras bases\n",
    "# nombre de las columnas:\n",
    "# 0 : producto (PN)\n",
    "# 2 : punto de pedido fijado por la empresa, tambien llamado stock mínimo (SM) \n",
    "# 3 : cantidad compradas (en este caso)\n",
    "# 5 : precio por unidad\n",
    "# 5555: tiempo de reaprovisionamiento\n"
   ]
  },
  {
   "cell_type": "code",
   "execution_count": 60,
   "metadata": {},
   "outputs": [],
   "source": [
    "Consumos=pd.read_csv('SALIDAS.ALMACEN.csv').rename(columns={'0':0, '1':1, '3':3})\n",
    "# las salidas son la suma de los consumos y envíos a otras bases\n",
    "# 0 : producto (PN)\n",
    "# 1 : fecha de consumo, de 0-364 días del año\n",
    "# 3 : cantidad consumida (en este caso)\n",
    "# 33 : consumo medio diario\n",
    "# 6 : punto de pedido\n",
    "# 66. punto de pedido, más stock de seguridad\n",
    "# 8: stock de seguridad (s)"
   ]
  },
  {
   "cell_type": "code",
   "execution_count": 62,
   "metadata": {},
   "outputs": [],
   "source": [
    "Consumo_total=Consumos.loc[:,[0,3]].groupby([0]).sum().reset_index() # el consumo total por producto\n",
    "Consumo_total[33]=Consumo_total[3]/t # añadimos una columna con el consumo medio diario de cada producto"
   ]
  },
  {
   "cell_type": "code",
   "execution_count": 63,
   "metadata": {},
   "outputs": [],
   "source": [
    "numero_compras=Compras.loc[:,[0,5555]].groupby([0]).count().reset_index() # se extrae el número de veces que se ha realizado una compra"
   ]
  },
  {
   "cell_type": "code",
   "execution_count": 64,
   "metadata": {},
   "outputs": [],
   "source": [
    "numero_compras_indices=Compras.loc[:,[0,5555]].groupby([0]).count() # se guardan los indices para su posterior uso\n"
   ]
  },
  {
   "cell_type": "code",
   "execution_count": 65,
   "metadata": {},
   "outputs": [],
   "source": [
    "tiempo_medio_compras=round(Compras.loc[:,[0,5555]].groupby([0]).mean().reset_index(), 2) # el tiempo medio que tarda la compra en llegar al almacén"
   ]
  },
  {
   "cell_type": "code",
   "execution_count": 66,
   "metadata": {},
   "outputs": [],
   "source": [
    "Consumos_compra=(Compras.loc[:,[0,2]].merge(Consumo_total, on=0)).merge(tiempo_medio_compras, on=0)\n",
    "# se agrupan los datos de compras y consumos por producto"
   ]
  },
  {
   "cell_type": "code",
   "execution_count": 67,
   "metadata": {},
   "outputs": [],
   "source": [
    "def get_safe(d):           # se define una función para obtener el stock de seguridad\n",
    "    s=np.sort(d)           # esta función extrae el día en el cual ha llegado almenos el 95% de las compras de cada producto\n",
    "    p=int(0.95 * len(d))\n",
    "    return s[p]"
   ]
  },
  {
   "cell_type": "code",
   "execution_count": 68,
   "metadata": {},
   "outputs": [],
   "source": [
    "Nivel_seguridad_95=Compras.loc[:,[0,5555]].groupby([0]).agg(get_safe).rename(columns={5555: 55}).reset_index() # se aplica el resultado de la función a los datos"
   ]
  },
  {
   "cell_type": "code",
   "execution_count": 69,
   "metadata": {},
   "outputs": [],
   "source": [
    "s=Consumos_compra.merge(Nivel_seguridad_95, on=0) # se agrupan datos"
   ]
  },
  {
   "cell_type": "code",
   "execution_count": 70,
   "metadata": {},
   "outputs": [],
   "source": [
    "s[8]=s[55]*s[33] # el stock de seguridad, es el resultado de multiplicar el día en el que ha llegado \n",
    "                 # el 95% de las compras de un producto por el consumo medio anualde ese mismo producto."
   ]
  },
  {
   "cell_type": "code",
   "execution_count": 71,
   "metadata": {},
   "outputs": [],
   "source": [
    "s=s.loc[:,[0,8]] # se extrae el nivel de seguridad de cada producto\n",
    "s=s.drop_duplicates(subset=None,keep='first',inplace=False)"
   ]
  },
  {
   "cell_type": "code",
   "execution_count": 72,
   "metadata": {},
   "outputs": [],
   "source": [
    "Consumos_compra=Consumos_compra.merge(round(Compras.loc[:,[0,5]].groupby([0]).mean().reset_index(),2),on=0)\n",
    "# se incorpora el precio medio de cada productos para hacer los calculos posteriores"
   ]
  },
  {
   "cell_type": "code",
   "execution_count": 73,
   "metadata": {},
   "outputs": [],
   "source": [
    "Consumos_compra=Consumos_compra.drop_duplicates(subset=None,keep='first',inplace=False)\n",
    "# se elimnan dublicados"
   ]
  },
  {
   "cell_type": "code",
   "execution_count": 76,
   "metadata": {},
   "outputs": [],
   "source": [
    "Consumos_compra=Consumos_compra.dropna() # se eliminan los NAs\n"
   ]
  },
  {
   "cell_type": "code",
   "execution_count": 77,
   "metadata": {},
   "outputs": [
    {
     "data": {
      "text/html": [
       "<div>\n",
       "<style scoped>\n",
       "    .dataframe tbody tr th:only-of-type {\n",
       "        vertical-align: middle;\n",
       "    }\n",
       "\n",
       "    .dataframe tbody tr th {\n",
       "        vertical-align: top;\n",
       "    }\n",
       "\n",
       "    .dataframe thead th {\n",
       "        text-align: right;\n",
       "    }\n",
       "</style>\n",
       "<table border=\"1\" class=\"dataframe\">\n",
       "  <thead>\n",
       "    <tr style=\"text-align: right;\">\n",
       "      <th></th>\n",
       "      <th>PN</th>\n",
       "      <th>SM</th>\n",
       "      <th>Consumo anual</th>\n",
       "    </tr>\n",
       "  </thead>\n",
       "  <tbody>\n",
       "    <tr>\n",
       "      <th>75</th>\n",
       "      <td>1274</td>\n",
       "      <td>432.0</td>\n",
       "      <td>1570</td>\n",
       "    </tr>\n",
       "    <tr>\n",
       "      <th>98</th>\n",
       "      <td>1620</td>\n",
       "      <td>42.0</td>\n",
       "      <td>150</td>\n",
       "    </tr>\n",
       "    <tr>\n",
       "      <th>115</th>\n",
       "      <td>2033</td>\n",
       "      <td>1.0</td>\n",
       "      <td>1</td>\n",
       "    </tr>\n",
       "  </tbody>\n",
       "</table>\n",
       "</div>"
      ],
      "text/plain": [
       "       PN     SM  Consumo anual\n",
       "75   1274  432.0           1570\n",
       "98   1620   42.0            150\n",
       "115  2033    1.0              1"
      ]
     },
     "execution_count": 77,
     "metadata": {},
     "output_type": "execute_result"
    }
   ],
   "source": [
    "Consumos_compra[Consumos_compra[0].isin([1274,1620,2033])].loc[:,[0,2,3]].rename(columns={0:'PN',2:'SM',3:'Consumo anual'})\n",
    "# se muestra información de los producto que se emplean como ejemplo"
   ]
  }
 ],
 "metadata": {
  "kernelspec": {
   "display_name": "Python 3",
   "language": "python",
   "name": "python3"
  },
  "language_info": {
   "codemirror_mode": {
    "name": "ipython",
    "version": 3
   },
   "file_extension": ".py",
   "mimetype": "text/x-python",
   "name": "python",
   "nbconvert_exporter": "python",
   "pygments_lexer": "ipython3",
   "version": "3.6.5"
  }
 },
 "nbformat": 4,
 "nbformat_minor": 2
}
